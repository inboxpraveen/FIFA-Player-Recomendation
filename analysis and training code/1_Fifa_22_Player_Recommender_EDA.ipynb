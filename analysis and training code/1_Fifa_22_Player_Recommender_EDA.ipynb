{
  "nbformat": 4,
  "nbformat_minor": 0,
  "metadata": {
    "colab": {
      "provenance": []
    },
    "kernelspec": {
      "name": "python3",
      "display_name": "Python 3"
    },
    "language_info": {
      "name": "python"
    }
  },
  "cells": [
    {
      "cell_type": "markdown",
      "source": [
        "# FIFA PLAYER ANALYSIS & RECOMMENDATION\n",
        "\n",
        "- Part 1: FIFA Player Analysis (You are here)\n",
        "- Part 2: FIFA Player Recommendation (Go to this notebook)"
      ],
      "metadata": {
        "id": "wiLMbhUTsvKk"
      }
    },
    {
      "cell_type": "markdown",
      "source": [
        "**Table of Content**\n",
        "\n",
        "| Sr. No | Section Title | Description |\n",
        "| ------ | ------------- | ----------- |\n",
        "| 00 | Drive & Files | Linking your google drive and uploading your Kaggle API token |\n",
        "| 01 | Kaggle Setup | Information & details on downloading dataset via Kaggle API |\n",
        "| 02 | Modules & Library | Information on setting up requirements for training and inference |\n",
        "| 03 | Data Analysis | Information on Analysis of players |"
      ],
      "metadata": {
        "id": "CWA3FQ-usvCm"
      }
    },
    {
      "cell_type": "markdown",
      "source": [
        "Quick Summary of Analysis\n",
        "\n",
        "1. Top 5 Players per Position\n",
        "2. Top 5 Highest Earning players\n",
        "3. Most common and rare player positions\n",
        "4. Top 10 Highest Potential Players by Age\n",
        "5. Comparison: Internation Reputation vs Overall\n",
        "6. Comparison: Internation Reputation vs Wages Earned\n",
        "7. Impact of Speed for Attacking/Midfield/defenders Player Ratings\n",
        "8. Impact of Age on Wages/Skills\n",
        "9. Mean Age per Position\n",
        "10. Top 10 Countries with Highest Rated Players\n",
        "11. Top 10 Clubs with Highest Rated Players\n",
        "12. Top 10 Players by Work Rate"
      ],
      "metadata": {
        "id": "sueJidZnyVNj"
      }
    },
    {
      "cell_type": "markdown",
      "source": [
        "## Section 0: Drive & Files\n",
        "\n",
        ">     Linking your google drive and uploading your Kaggle API token"
      ],
      "metadata": {
        "id": "6kJIG9zGtmQM"
      }
    },
    {
      "cell_type": "markdown",
      "source": [
        "#### 1: Mounting your Google Drive"
      ],
      "metadata": {
        "id": "pUOM3ShVtoxS"
      }
    },
    {
      "cell_type": "code",
      "source": [
        "from google.colab import drive, files\n",
        "# drive.mount('/content/drive')"
      ],
      "metadata": {
        "id": "UgAL9PMKtq5c"
      },
      "execution_count": 1,
      "outputs": []
    },
    {
      "cell_type": "markdown",
      "source": [
        "#### 2: Uploading your Kaggle API Token File"
      ],
      "metadata": {
        "id": "aJdzGqrJttKT"
      }
    },
    {
      "cell_type": "code",
      "source": [
        "files.upload()"
      ],
      "metadata": {
        "colab": {
          "base_uri": "https://localhost:8080/",
          "height": 90
        },
        "id": "pZ0PuXE4tuuR",
        "outputId": "5758c9af-2c8a-4d77-f00d-b82857b7d72d"
      },
      "execution_count": 2,
      "outputs": [
        {
          "output_type": "display_data",
          "data": {
            "text/plain": [
              "<IPython.core.display.HTML object>"
            ],
            "text/html": [
              "\n",
              "     <input type=\"file\" id=\"files-a353f153-6d11-4e20-820b-5e0247a9c9a9\" name=\"files[]\" multiple disabled\n",
              "        style=\"border:none\" />\n",
              "     <output id=\"result-a353f153-6d11-4e20-820b-5e0247a9c9a9\">\n",
              "      Upload widget is only available when the cell has been executed in the\n",
              "      current browser session. Please rerun this cell to enable.\n",
              "      </output>\n",
              "      <script>// Copyright 2017 Google LLC\n",
              "//\n",
              "// Licensed under the Apache License, Version 2.0 (the \"License\");\n",
              "// you may not use this file except in compliance with the License.\n",
              "// You may obtain a copy of the License at\n",
              "//\n",
              "//      http://www.apache.org/licenses/LICENSE-2.0\n",
              "//\n",
              "// Unless required by applicable law or agreed to in writing, software\n",
              "// distributed under the License is distributed on an \"AS IS\" BASIS,\n",
              "// WITHOUT WARRANTIES OR CONDITIONS OF ANY KIND, either express or implied.\n",
              "// See the License for the specific language governing permissions and\n",
              "// limitations under the License.\n",
              "\n",
              "/**\n",
              " * @fileoverview Helpers for google.colab Python module.\n",
              " */\n",
              "(function(scope) {\n",
              "function span(text, styleAttributes = {}) {\n",
              "  const element = document.createElement('span');\n",
              "  element.textContent = text;\n",
              "  for (const key of Object.keys(styleAttributes)) {\n",
              "    element.style[key] = styleAttributes[key];\n",
              "  }\n",
              "  return element;\n",
              "}\n",
              "\n",
              "// Max number of bytes which will be uploaded at a time.\n",
              "const MAX_PAYLOAD_SIZE = 100 * 1024;\n",
              "\n",
              "function _uploadFiles(inputId, outputId) {\n",
              "  const steps = uploadFilesStep(inputId, outputId);\n",
              "  const outputElement = document.getElementById(outputId);\n",
              "  // Cache steps on the outputElement to make it available for the next call\n",
              "  // to uploadFilesContinue from Python.\n",
              "  outputElement.steps = steps;\n",
              "\n",
              "  return _uploadFilesContinue(outputId);\n",
              "}\n",
              "\n",
              "// This is roughly an async generator (not supported in the browser yet),\n",
              "// where there are multiple asynchronous steps and the Python side is going\n",
              "// to poll for completion of each step.\n",
              "// This uses a Promise to block the python side on completion of each step,\n",
              "// then passes the result of the previous step as the input to the next step.\n",
              "function _uploadFilesContinue(outputId) {\n",
              "  const outputElement = document.getElementById(outputId);\n",
              "  const steps = outputElement.steps;\n",
              "\n",
              "  const next = steps.next(outputElement.lastPromiseValue);\n",
              "  return Promise.resolve(next.value.promise).then((value) => {\n",
              "    // Cache the last promise value to make it available to the next\n",
              "    // step of the generator.\n",
              "    outputElement.lastPromiseValue = value;\n",
              "    return next.value.response;\n",
              "  });\n",
              "}\n",
              "\n",
              "/**\n",
              " * Generator function which is called between each async step of the upload\n",
              " * process.\n",
              " * @param {string} inputId Element ID of the input file picker element.\n",
              " * @param {string} outputId Element ID of the output display.\n",
              " * @return {!Iterable<!Object>} Iterable of next steps.\n",
              " */\n",
              "function* uploadFilesStep(inputId, outputId) {\n",
              "  const inputElement = document.getElementById(inputId);\n",
              "  inputElement.disabled = false;\n",
              "\n",
              "  const outputElement = document.getElementById(outputId);\n",
              "  outputElement.innerHTML = '';\n",
              "\n",
              "  const pickedPromise = new Promise((resolve) => {\n",
              "    inputElement.addEventListener('change', (e) => {\n",
              "      resolve(e.target.files);\n",
              "    });\n",
              "  });\n",
              "\n",
              "  const cancel = document.createElement('button');\n",
              "  inputElement.parentElement.appendChild(cancel);\n",
              "  cancel.textContent = 'Cancel upload';\n",
              "  const cancelPromise = new Promise((resolve) => {\n",
              "    cancel.onclick = () => {\n",
              "      resolve(null);\n",
              "    };\n",
              "  });\n",
              "\n",
              "  // Wait for the user to pick the files.\n",
              "  const files = yield {\n",
              "    promise: Promise.race([pickedPromise, cancelPromise]),\n",
              "    response: {\n",
              "      action: 'starting',\n",
              "    }\n",
              "  };\n",
              "\n",
              "  cancel.remove();\n",
              "\n",
              "  // Disable the input element since further picks are not allowed.\n",
              "  inputElement.disabled = true;\n",
              "\n",
              "  if (!files) {\n",
              "    return {\n",
              "      response: {\n",
              "        action: 'complete',\n",
              "      }\n",
              "    };\n",
              "  }\n",
              "\n",
              "  for (const file of files) {\n",
              "    const li = document.createElement('li');\n",
              "    li.append(span(file.name, {fontWeight: 'bold'}));\n",
              "    li.append(span(\n",
              "        `(${file.type || 'n/a'}) - ${file.size} bytes, ` +\n",
              "        `last modified: ${\n",
              "            file.lastModifiedDate ? file.lastModifiedDate.toLocaleDateString() :\n",
              "                                    'n/a'} - `));\n",
              "    const percent = span('0% done');\n",
              "    li.appendChild(percent);\n",
              "\n",
              "    outputElement.appendChild(li);\n",
              "\n",
              "    const fileDataPromise = new Promise((resolve) => {\n",
              "      const reader = new FileReader();\n",
              "      reader.onload = (e) => {\n",
              "        resolve(e.target.result);\n",
              "      };\n",
              "      reader.readAsArrayBuffer(file);\n",
              "    });\n",
              "    // Wait for the data to be ready.\n",
              "    let fileData = yield {\n",
              "      promise: fileDataPromise,\n",
              "      response: {\n",
              "        action: 'continue',\n",
              "      }\n",
              "    };\n",
              "\n",
              "    // Use a chunked sending to avoid message size limits. See b/62115660.\n",
              "    let position = 0;\n",
              "    do {\n",
              "      const length = Math.min(fileData.byteLength - position, MAX_PAYLOAD_SIZE);\n",
              "      const chunk = new Uint8Array(fileData, position, length);\n",
              "      position += length;\n",
              "\n",
              "      const base64 = btoa(String.fromCharCode.apply(null, chunk));\n",
              "      yield {\n",
              "        response: {\n",
              "          action: 'append',\n",
              "          file: file.name,\n",
              "          data: base64,\n",
              "        },\n",
              "      };\n",
              "\n",
              "      let percentDone = fileData.byteLength === 0 ?\n",
              "          100 :\n",
              "          Math.round((position / fileData.byteLength) * 100);\n",
              "      percent.textContent = `${percentDone}% done`;\n",
              "\n",
              "    } while (position < fileData.byteLength);\n",
              "  }\n",
              "\n",
              "  // All done.\n",
              "  yield {\n",
              "    response: {\n",
              "      action: 'complete',\n",
              "    }\n",
              "  };\n",
              "}\n",
              "\n",
              "scope.google = scope.google || {};\n",
              "scope.google.colab = scope.google.colab || {};\n",
              "scope.google.colab._files = {\n",
              "  _uploadFiles,\n",
              "  _uploadFilesContinue,\n",
              "};\n",
              "})(self);\n",
              "</script> "
            ]
          },
          "metadata": {}
        },
        {
          "output_type": "stream",
          "name": "stdout",
          "text": [
            "Saving kaggle.json to kaggle.json\n"
          ]
        },
        {
          "output_type": "execute_result",
          "data": {
            "text/plain": [
              "{'kaggle.json': b'{\"username\":\"inboxpraveen17\",\"key\":\"a4ee5a949866942dca35b8f132765639\"}'}"
            ]
          },
          "metadata": {},
          "execution_count": 2
        }
      ]
    },
    {
      "cell_type": "markdown",
      "source": [
        "## Section 1: Kaggle Setup\n",
        "\n",
        "> \tInformation & details on downloading dataset via Kaggle API"
      ],
      "metadata": {
        "id": "btkE0sAftwxC"
      }
    },
    {
      "cell_type": "markdown",
      "source": [
        "#### 1: Enable Kaggle API for User Mode Aceess"
      ],
      "metadata": {
        "id": "B8K8nLZSt5VP"
      }
    },
    {
      "cell_type": "code",
      "execution_count": 3,
      "metadata": {
        "id": "4N1Kd86g3LOk"
      },
      "outputs": [],
      "source": [
        "!pip install -q kaggle\n",
        "!mkdir ~/.kaggle\n",
        "!cp kaggle.json ~/.kaggle/\n",
        "!chmod 600 ~/.kaggle/kaggle.json"
      ]
    },
    {
      "cell_type": "markdown",
      "source": [
        "#### 2: Downloading the Dataset from Kaggle to Google Colab"
      ],
      "metadata": {
        "id": "FoAKMmQ9t72l"
      }
    },
    {
      "cell_type": "code",
      "source": [
        "!kaggle datasets download -d stefanoleone992/fifa-22-complete-player-dataset"
      ],
      "metadata": {
        "id": "S-GLlgyb3XHa",
        "colab": {
          "base_uri": "https://localhost:8080/"
        },
        "outputId": "c012e912-b0ca-4649-d274-a664e4e93aa7"
      },
      "execution_count": 4,
      "outputs": [
        {
          "output_type": "stream",
          "name": "stdout",
          "text": [
            "Downloading fifa-22-complete-player-dataset.zip to /content\n",
            " 99% 108M/109M [00:04<00:00, 28.5MB/s]\n",
            "100% 109M/109M [00:04<00:00, 22.9MB/s]\n"
          ]
        }
      ]
    },
    {
      "cell_type": "markdown",
      "source": [
        "#### 3: Extracting Dataset\n",
        "\n",
        "Whenever we download dataset from Kaggle, it is usually in zip or tar compression technique. To be able to access dataset, we need to extract it using suitable decompression technique."
      ],
      "metadata": {
        "id": "hRoxyGy1t91d"
      }
    },
    {
      "cell_type": "code",
      "source": [
        "## Unzip the dataset into /content/data directory \n",
        "!unzip /content/fifa-22-complete-player-dataset.zip -d /content/data\n",
        "\n",
        "## Once extracted, we then remove it to save disk space.\n",
        "!rm /content/fifa-22-complete-player-dataset.zip"
      ],
      "metadata": {
        "colab": {
          "base_uri": "https://localhost:8080/"
        },
        "id": "-ZSdWNkR3_SW",
        "outputId": "4b7c9adb-4442-4fd9-c157-1659d923ec65"
      },
      "execution_count": 5,
      "outputs": [
        {
          "output_type": "stream",
          "name": "stdout",
          "text": [
            "Archive:  /content/fifa-22-complete-player-dataset.zip\n",
            "  inflating: /content/data/Career Mode female player datasets - FIFA 16-22.xlsx  \n",
            "  inflating: /content/data/Career Mode player datasets - FIFA 15-22.xlsx  \n",
            "  inflating: /content/data/female_players_16.csv  \n",
            "  inflating: /content/data/female_players_17.csv  \n",
            "  inflating: /content/data/female_players_18.csv  \n",
            "  inflating: /content/data/female_players_19.csv  \n",
            "  inflating: /content/data/female_players_20.csv  \n",
            "  inflating: /content/data/female_players_21.csv  \n",
            "  inflating: /content/data/female_players_22.csv  \n",
            "  inflating: /content/data/players_15.csv  \n",
            "  inflating: /content/data/players_16.csv  \n",
            "  inflating: /content/data/players_17.csv  \n",
            "  inflating: /content/data/players_18.csv  \n",
            "  inflating: /content/data/players_19.csv  \n",
            "  inflating: /content/data/players_20.csv  \n",
            "  inflating: /content/data/players_21.csv  \n",
            "  inflating: /content/data/players_22.csv  \n"
          ]
        }
      ]
    },
    {
      "cell_type": "markdown",
      "source": [
        "## Section 2: Modules & Library\n",
        "\n",
        ">     Information on setting up requirements for training and inference"
      ],
      "metadata": {
        "id": "Hea8rK-suMCg"
      }
    },
    {
      "cell_type": "markdown",
      "source": [
        "#### 1: Installing required packages"
      ],
      "metadata": {
        "id": "MrOX3lK-uOmB"
      }
    },
    {
      "cell_type": "code",
      "source": [
        "!pip install --quiet fastparquet\n",
        "!pip install --quiet pyarrow"
      ],
      "metadata": {
        "id": "0T_ssYcouQcH"
      },
      "execution_count": null,
      "outputs": []
    },
    {
      "cell_type": "markdown",
      "source": [
        "---\n",
        "\n",
        "For your Information: This notebook is complied on Google Colab that provides most of the modules pre-installed in working environment. If you happen to run it locally on your system, you may need to install additional dependencies. \n",
        "\n",
        "---"
      ],
      "metadata": {
        "id": "PG1S6nhxuQvD"
      }
    },
    {
      "cell_type": "markdown",
      "source": [
        "#### 2: Importing Rerquired Packages"
      ],
      "metadata": {
        "id": "EuY4-Uv7G0QV"
      }
    },
    {
      "cell_type": "code",
      "source": [
        "import pandas as pd\n",
        "import numpy as np\n",
        "import seaborn as sns\n",
        "import matplotlib.pyplot as plt\n",
        "from wordcloud import WordCloud\n",
        "import math\n",
        "import datetime as dt\n",
        "\n",
        "%matplotlib inline"
      ],
      "metadata": {
        "id": "9Z3W31kCMnkP"
      },
      "execution_count": 1,
      "outputs": []
    },
    {
      "cell_type": "markdown",
      "source": [
        "## Section 3: Data Analysis\n",
        "\n",
        ">     Information on Analysis of players"
      ],
      "metadata": {
        "id": "s7OWXMddHWiO"
      }
    },
    {
      "cell_type": "code",
      "source": [
        "fifa_22_players = pd.read_csv(\"/content/data/players_22.csv\",low_memory=False)\n",
        "print(fifa_22_players.shape)"
      ],
      "metadata": {
        "id": "VJcGTu_DHUGm",
        "colab": {
          "base_uri": "https://localhost:8080/"
        },
        "outputId": "510ff1e8-2f76-4a89-fec9-badc3877289c"
      },
      "execution_count": 2,
      "outputs": [
        {
          "output_type": "stream",
          "name": "stdout",
          "text": [
            "(19239, 110)\n"
          ]
        }
      ]
    },
    {
      "cell_type": "code",
      "source": [
        "fifa_22_players.head(3)"
      ],
      "metadata": {
        "colab": {
          "base_uri": "https://localhost:8080/",
          "height": 358
        },
        "id": "SEdivhHSltbH",
        "outputId": "66f2f9bc-5dcb-45a5-d17e-fe5c16ea6e59"
      },
      "execution_count": 3,
      "outputs": [
        {
          "output_type": "execute_result",
          "data": {
            "text/plain": [
              "   sofifa_id                                         player_url  \\\n",
              "0     158023  https://sofifa.com/player/158023/lionel-messi/...   \n",
              "1     188545  https://sofifa.com/player/188545/robert-lewand...   \n",
              "2      20801  https://sofifa.com/player/20801/c-ronaldo-dos-...   \n",
              "\n",
              "          short_name                            long_name player_positions  \\\n",
              "0           L. Messi       Lionel Andrés Messi Cuccittini       RW, ST, CF   \n",
              "1     R. Lewandowski                   Robert Lewandowski               ST   \n",
              "2  Cristiano Ronaldo  Cristiano Ronaldo dos Santos Aveiro           ST, LW   \n",
              "\n",
              "   overall  potential    value_eur  wage_eur  age  ...   lcb    cb   rcb  \\\n",
              "0       93         93   78000000.0  320000.0   34  ...  50+3  50+3  50+3   \n",
              "1       92         92  119500000.0  270000.0   32  ...  60+3  60+3  60+3   \n",
              "2       91         91   45000000.0  270000.0   36  ...  53+3  53+3  53+3   \n",
              "\n",
              "     rb    gk                                    player_face_url  \\\n",
              "0  61+3  19+3  https://cdn.sofifa.net/players/158/023/22_120.png   \n",
              "1  61+3  19+3  https://cdn.sofifa.net/players/188/545/22_120.png   \n",
              "2  60+3  20+3  https://cdn.sofifa.net/players/020/801/22_120.png   \n",
              "\n",
              "                            club_logo_url  \\\n",
              "0  https://cdn.sofifa.net/teams/73/60.png   \n",
              "1  https://cdn.sofifa.net/teams/21/60.png   \n",
              "2  https://cdn.sofifa.net/teams/11/60.png   \n",
              "\n",
              "                             club_flag_url  \\\n",
              "0      https://cdn.sofifa.net/flags/fr.png   \n",
              "1      https://cdn.sofifa.net/flags/de.png   \n",
              "2  https://cdn.sofifa.net/flags/gb-eng.png   \n",
              "\n",
              "                            nation_logo_url  \\\n",
              "0  https://cdn.sofifa.net/teams/1369/60.png   \n",
              "1  https://cdn.sofifa.net/teams/1353/60.png   \n",
              "2  https://cdn.sofifa.net/teams/1354/60.png   \n",
              "\n",
              "                       nation_flag_url  \n",
              "0  https://cdn.sofifa.net/flags/ar.png  \n",
              "1  https://cdn.sofifa.net/flags/pl.png  \n",
              "2  https://cdn.sofifa.net/flags/pt.png  \n",
              "\n",
              "[3 rows x 110 columns]"
            ],
            "text/html": [
              "\n",
              "  <div id=\"df-47b539b2-c3fd-409e-94bc-d102df2ee4f2\">\n",
              "    <div class=\"colab-df-container\">\n",
              "      <div>\n",
              "<style scoped>\n",
              "    .dataframe tbody tr th:only-of-type {\n",
              "        vertical-align: middle;\n",
              "    }\n",
              "\n",
              "    .dataframe tbody tr th {\n",
              "        vertical-align: top;\n",
              "    }\n",
              "\n",
              "    .dataframe thead th {\n",
              "        text-align: right;\n",
              "    }\n",
              "</style>\n",
              "<table border=\"1\" class=\"dataframe\">\n",
              "  <thead>\n",
              "    <tr style=\"text-align: right;\">\n",
              "      <th></th>\n",
              "      <th>sofifa_id</th>\n",
              "      <th>player_url</th>\n",
              "      <th>short_name</th>\n",
              "      <th>long_name</th>\n",
              "      <th>player_positions</th>\n",
              "      <th>overall</th>\n",
              "      <th>potential</th>\n",
              "      <th>value_eur</th>\n",
              "      <th>wage_eur</th>\n",
              "      <th>age</th>\n",
              "      <th>...</th>\n",
              "      <th>lcb</th>\n",
              "      <th>cb</th>\n",
              "      <th>rcb</th>\n",
              "      <th>rb</th>\n",
              "      <th>gk</th>\n",
              "      <th>player_face_url</th>\n",
              "      <th>club_logo_url</th>\n",
              "      <th>club_flag_url</th>\n",
              "      <th>nation_logo_url</th>\n",
              "      <th>nation_flag_url</th>\n",
              "    </tr>\n",
              "  </thead>\n",
              "  <tbody>\n",
              "    <tr>\n",
              "      <th>0</th>\n",
              "      <td>158023</td>\n",
              "      <td>https://sofifa.com/player/158023/lionel-messi/...</td>\n",
              "      <td>L. Messi</td>\n",
              "      <td>Lionel Andrés Messi Cuccittini</td>\n",
              "      <td>RW, ST, CF</td>\n",
              "      <td>93</td>\n",
              "      <td>93</td>\n",
              "      <td>78000000.0</td>\n",
              "      <td>320000.0</td>\n",
              "      <td>34</td>\n",
              "      <td>...</td>\n",
              "      <td>50+3</td>\n",
              "      <td>50+3</td>\n",
              "      <td>50+3</td>\n",
              "      <td>61+3</td>\n",
              "      <td>19+3</td>\n",
              "      <td>https://cdn.sofifa.net/players/158/023/22_120.png</td>\n",
              "      <td>https://cdn.sofifa.net/teams/73/60.png</td>\n",
              "      <td>https://cdn.sofifa.net/flags/fr.png</td>\n",
              "      <td>https://cdn.sofifa.net/teams/1369/60.png</td>\n",
              "      <td>https://cdn.sofifa.net/flags/ar.png</td>\n",
              "    </tr>\n",
              "    <tr>\n",
              "      <th>1</th>\n",
              "      <td>188545</td>\n",
              "      <td>https://sofifa.com/player/188545/robert-lewand...</td>\n",
              "      <td>R. Lewandowski</td>\n",
              "      <td>Robert Lewandowski</td>\n",
              "      <td>ST</td>\n",
              "      <td>92</td>\n",
              "      <td>92</td>\n",
              "      <td>119500000.0</td>\n",
              "      <td>270000.0</td>\n",
              "      <td>32</td>\n",
              "      <td>...</td>\n",
              "      <td>60+3</td>\n",
              "      <td>60+3</td>\n",
              "      <td>60+3</td>\n",
              "      <td>61+3</td>\n",
              "      <td>19+3</td>\n",
              "      <td>https://cdn.sofifa.net/players/188/545/22_120.png</td>\n",
              "      <td>https://cdn.sofifa.net/teams/21/60.png</td>\n",
              "      <td>https://cdn.sofifa.net/flags/de.png</td>\n",
              "      <td>https://cdn.sofifa.net/teams/1353/60.png</td>\n",
              "      <td>https://cdn.sofifa.net/flags/pl.png</td>\n",
              "    </tr>\n",
              "    <tr>\n",
              "      <th>2</th>\n",
              "      <td>20801</td>\n",
              "      <td>https://sofifa.com/player/20801/c-ronaldo-dos-...</td>\n",
              "      <td>Cristiano Ronaldo</td>\n",
              "      <td>Cristiano Ronaldo dos Santos Aveiro</td>\n",
              "      <td>ST, LW</td>\n",
              "      <td>91</td>\n",
              "      <td>91</td>\n",
              "      <td>45000000.0</td>\n",
              "      <td>270000.0</td>\n",
              "      <td>36</td>\n",
              "      <td>...</td>\n",
              "      <td>53+3</td>\n",
              "      <td>53+3</td>\n",
              "      <td>53+3</td>\n",
              "      <td>60+3</td>\n",
              "      <td>20+3</td>\n",
              "      <td>https://cdn.sofifa.net/players/020/801/22_120.png</td>\n",
              "      <td>https://cdn.sofifa.net/teams/11/60.png</td>\n",
              "      <td>https://cdn.sofifa.net/flags/gb-eng.png</td>\n",
              "      <td>https://cdn.sofifa.net/teams/1354/60.png</td>\n",
              "      <td>https://cdn.sofifa.net/flags/pt.png</td>\n",
              "    </tr>\n",
              "  </tbody>\n",
              "</table>\n",
              "<p>3 rows × 110 columns</p>\n",
              "</div>\n",
              "      <button class=\"colab-df-convert\" onclick=\"convertToInteractive('df-47b539b2-c3fd-409e-94bc-d102df2ee4f2')\"\n",
              "              title=\"Convert this dataframe to an interactive table.\"\n",
              "              style=\"display:none;\">\n",
              "        \n",
              "  <svg xmlns=\"http://www.w3.org/2000/svg\" height=\"24px\"viewBox=\"0 0 24 24\"\n",
              "       width=\"24px\">\n",
              "    <path d=\"M0 0h24v24H0V0z\" fill=\"none\"/>\n",
              "    <path d=\"M18.56 5.44l.94 2.06.94-2.06 2.06-.94-2.06-.94-.94-2.06-.94 2.06-2.06.94zm-11 1L8.5 8.5l.94-2.06 2.06-.94-2.06-.94L8.5 2.5l-.94 2.06-2.06.94zm10 10l.94 2.06.94-2.06 2.06-.94-2.06-.94-.94-2.06-.94 2.06-2.06.94z\"/><path d=\"M17.41 7.96l-1.37-1.37c-.4-.4-.92-.59-1.43-.59-.52 0-1.04.2-1.43.59L10.3 9.45l-7.72 7.72c-.78.78-.78 2.05 0 2.83L4 21.41c.39.39.9.59 1.41.59.51 0 1.02-.2 1.41-.59l7.78-7.78 2.81-2.81c.8-.78.8-2.07 0-2.86zM5.41 20L4 18.59l7.72-7.72 1.47 1.35L5.41 20z\"/>\n",
              "  </svg>\n",
              "      </button>\n",
              "      \n",
              "  <style>\n",
              "    .colab-df-container {\n",
              "      display:flex;\n",
              "      flex-wrap:wrap;\n",
              "      gap: 12px;\n",
              "    }\n",
              "\n",
              "    .colab-df-convert {\n",
              "      background-color: #E8F0FE;\n",
              "      border: none;\n",
              "      border-radius: 50%;\n",
              "      cursor: pointer;\n",
              "      display: none;\n",
              "      fill: #1967D2;\n",
              "      height: 32px;\n",
              "      padding: 0 0 0 0;\n",
              "      width: 32px;\n",
              "    }\n",
              "\n",
              "    .colab-df-convert:hover {\n",
              "      background-color: #E2EBFA;\n",
              "      box-shadow: 0px 1px 2px rgba(60, 64, 67, 0.3), 0px 1px 3px 1px rgba(60, 64, 67, 0.15);\n",
              "      fill: #174EA6;\n",
              "    }\n",
              "\n",
              "    [theme=dark] .colab-df-convert {\n",
              "      background-color: #3B4455;\n",
              "      fill: #D2E3FC;\n",
              "    }\n",
              "\n",
              "    [theme=dark] .colab-df-convert:hover {\n",
              "      background-color: #434B5C;\n",
              "      box-shadow: 0px 1px 3px 1px rgba(0, 0, 0, 0.15);\n",
              "      filter: drop-shadow(0px 1px 2px rgba(0, 0, 0, 0.3));\n",
              "      fill: #FFFFFF;\n",
              "    }\n",
              "  </style>\n",
              "\n",
              "      <script>\n",
              "        const buttonEl =\n",
              "          document.querySelector('#df-47b539b2-c3fd-409e-94bc-d102df2ee4f2 button.colab-df-convert');\n",
              "        buttonEl.style.display =\n",
              "          google.colab.kernel.accessAllowed ? 'block' : 'none';\n",
              "\n",
              "        async function convertToInteractive(key) {\n",
              "          const element = document.querySelector('#df-47b539b2-c3fd-409e-94bc-d102df2ee4f2');\n",
              "          const dataTable =\n",
              "            await google.colab.kernel.invokeFunction('convertToInteractive',\n",
              "                                                     [key], {});\n",
              "          if (!dataTable) return;\n",
              "\n",
              "          const docLinkHtml = 'Like what you see? Visit the ' +\n",
              "            '<a target=\"_blank\" href=https://colab.research.google.com/notebooks/data_table.ipynb>data table notebook</a>'\n",
              "            + ' to learn more about interactive tables.';\n",
              "          element.innerHTML = '';\n",
              "          dataTable['output_type'] = 'display_data';\n",
              "          await google.colab.output.renderOutput(dataTable, element);\n",
              "          const docLink = document.createElement('div');\n",
              "          docLink.innerHTML = docLinkHtml;\n",
              "          element.appendChild(docLink);\n",
              "        }\n",
              "      </script>\n",
              "    </div>\n",
              "  </div>\n",
              "  "
            ]
          },
          "metadata": {},
          "execution_count": 3
        }
      ]
    },
    {
      "cell_type": "code",
      "source": [
        "all_columns = list(fifa_22_players.columns)\n",
        "for each_column in all_columns:\n",
        "    print(f\"{each_column:<50} => DataType({fifa_22_players[each_column].dtype})\")"
      ],
      "metadata": {
        "colab": {
          "base_uri": "https://localhost:8080/"
        },
        "id": "ndlS0Ykikvox",
        "outputId": "0ed3877b-d47e-40cf-fe31-73e91741f6d1"
      },
      "execution_count": 4,
      "outputs": [
        {
          "output_type": "stream",
          "name": "stdout",
          "text": [
            "sofifa_id                                          => DataType(int64)\n",
            "player_url                                         => DataType(object)\n",
            "short_name                                         => DataType(object)\n",
            "long_name                                          => DataType(object)\n",
            "player_positions                                   => DataType(object)\n",
            "overall                                            => DataType(int64)\n",
            "potential                                          => DataType(int64)\n",
            "value_eur                                          => DataType(float64)\n",
            "wage_eur                                           => DataType(float64)\n",
            "age                                                => DataType(int64)\n",
            "dob                                                => DataType(object)\n",
            "height_cm                                          => DataType(int64)\n",
            "weight_kg                                          => DataType(int64)\n",
            "club_team_id                                       => DataType(float64)\n",
            "club_name                                          => DataType(object)\n",
            "league_name                                        => DataType(object)\n",
            "league_level                                       => DataType(float64)\n",
            "club_position                                      => DataType(object)\n",
            "club_jersey_number                                 => DataType(float64)\n",
            "club_loaned_from                                   => DataType(object)\n",
            "club_joined                                        => DataType(object)\n",
            "club_contract_valid_until                          => DataType(float64)\n",
            "nationality_id                                     => DataType(int64)\n",
            "nationality_name                                   => DataType(object)\n",
            "nation_team_id                                     => DataType(float64)\n",
            "nation_position                                    => DataType(object)\n",
            "nation_jersey_number                               => DataType(float64)\n",
            "preferred_foot                                     => DataType(object)\n",
            "weak_foot                                          => DataType(int64)\n",
            "skill_moves                                        => DataType(int64)\n",
            "international_reputation                           => DataType(int64)\n",
            "work_rate                                          => DataType(object)\n",
            "body_type                                          => DataType(object)\n",
            "real_face                                          => DataType(object)\n",
            "release_clause_eur                                 => DataType(float64)\n",
            "player_tags                                        => DataType(object)\n",
            "player_traits                                      => DataType(object)\n",
            "pace                                               => DataType(float64)\n",
            "shooting                                           => DataType(float64)\n",
            "passing                                            => DataType(float64)\n",
            "dribbling                                          => DataType(float64)\n",
            "defending                                          => DataType(float64)\n",
            "physic                                             => DataType(float64)\n",
            "attacking_crossing                                 => DataType(int64)\n",
            "attacking_finishing                                => DataType(int64)\n",
            "attacking_heading_accuracy                         => DataType(int64)\n",
            "attacking_short_passing                            => DataType(int64)\n",
            "attacking_volleys                                  => DataType(int64)\n",
            "skill_dribbling                                    => DataType(int64)\n",
            "skill_curve                                        => DataType(int64)\n",
            "skill_fk_accuracy                                  => DataType(int64)\n",
            "skill_long_passing                                 => DataType(int64)\n",
            "skill_ball_control                                 => DataType(int64)\n",
            "movement_acceleration                              => DataType(int64)\n",
            "movement_sprint_speed                              => DataType(int64)\n",
            "movement_agility                                   => DataType(int64)\n",
            "movement_reactions                                 => DataType(int64)\n",
            "movement_balance                                   => DataType(int64)\n",
            "power_shot_power                                   => DataType(int64)\n",
            "power_jumping                                      => DataType(int64)\n",
            "power_stamina                                      => DataType(int64)\n",
            "power_strength                                     => DataType(int64)\n",
            "power_long_shots                                   => DataType(int64)\n",
            "mentality_aggression                               => DataType(int64)\n",
            "mentality_interceptions                            => DataType(int64)\n",
            "mentality_positioning                              => DataType(int64)\n",
            "mentality_vision                                   => DataType(int64)\n",
            "mentality_penalties                                => DataType(int64)\n",
            "mentality_composure                                => DataType(int64)\n",
            "defending_marking_awareness                        => DataType(int64)\n",
            "defending_standing_tackle                          => DataType(int64)\n",
            "defending_sliding_tackle                           => DataType(int64)\n",
            "goalkeeping_diving                                 => DataType(int64)\n",
            "goalkeeping_handling                               => DataType(int64)\n",
            "goalkeeping_kicking                                => DataType(int64)\n",
            "goalkeeping_positioning                            => DataType(int64)\n",
            "goalkeeping_reflexes                               => DataType(int64)\n",
            "goalkeeping_speed                                  => DataType(float64)\n",
            "ls                                                 => DataType(object)\n",
            "st                                                 => DataType(object)\n",
            "rs                                                 => DataType(object)\n",
            "lw                                                 => DataType(object)\n",
            "lf                                                 => DataType(object)\n",
            "cf                                                 => DataType(object)\n",
            "rf                                                 => DataType(object)\n",
            "rw                                                 => DataType(object)\n",
            "lam                                                => DataType(object)\n",
            "cam                                                => DataType(object)\n",
            "ram                                                => DataType(object)\n",
            "lm                                                 => DataType(object)\n",
            "lcm                                                => DataType(object)\n",
            "cm                                                 => DataType(object)\n",
            "rcm                                                => DataType(object)\n",
            "rm                                                 => DataType(object)\n",
            "lwb                                                => DataType(object)\n",
            "ldm                                                => DataType(object)\n",
            "cdm                                                => DataType(object)\n",
            "rdm                                                => DataType(object)\n",
            "rwb                                                => DataType(object)\n",
            "lb                                                 => DataType(object)\n",
            "lcb                                                => DataType(object)\n",
            "cb                                                 => DataType(object)\n",
            "rcb                                                => DataType(object)\n",
            "rb                                                 => DataType(object)\n",
            "gk                                                 => DataType(object)\n",
            "player_face_url                                    => DataType(object)\n",
            "club_logo_url                                      => DataType(object)\n",
            "club_flag_url                                      => DataType(object)\n",
            "nation_logo_url                                    => DataType(object)\n",
            "nation_flag_url                                    => DataType(object)\n"
          ]
        }
      ]
    },
    {
      "cell_type": "markdown",
      "source": [
        "---\n",
        "\n",
        "Important Observation: We have columns \"ls\" to \"gk\" which has predictable values of each player, when played at that position, would change his overall rating by +(plus) or -(minus) value.\n",
        "\n",
        "Example: If player has originally plays at Striker Role with overall 90 Rating. If he is played at midfield position, he may not be rated at same 90 but could be 88. So then we would have CM(central midfield) value as 90-2.\n",
        "\n",
        "---"
      ],
      "metadata": {
        "id": "v-ZhGFpLmd7Y"
      }
    },
    {
      "cell_type": "markdown",
      "source": [
        "Even though we have mixed data types, we can mainly classify columns into 2 major categories:\n",
        "\n",
        "1. Numerial domain columns\n",
        "2. Non-Numerical domain columns\n",
        "\n",
        "We can then make use of numerical columns to perform major anlaysis and later on look into non-numerical features."
      ],
      "metadata": {
        "id": "zzW_XIkbl6xJ"
      }
    },
    {
      "cell_type": "code",
      "source": [
        "## Creating numerical columns\n",
        "numerical_columns = [each_column for each_column in all_columns if (fifa_22_players[each_column]).dtype != \"O\"]\n",
        "\n",
        "## Creating non-numerical columns\n",
        "nonnumerical_columns = [each_column for each_column in all_columns if (fifa_22_players[each_column]).dtype == \"O\"]"
      ],
      "metadata": {
        "id": "z5WltCjtlnkB"
      },
      "execution_count": 5,
      "outputs": []
    },
    {
      "cell_type": "code",
      "source": [
        "print(f\"Total Columns: {len(all_columns)}\")\n",
        "print(f\"Total Numerical Columns: {len(numerical_columns)}\")\n",
        "print(f\"Total Non-Numerical Columns: {len(nonnumerical_columns)}\")"
      ],
      "metadata": {
        "colab": {
          "base_uri": "https://localhost:8080/"
        },
        "id": "w_o9Dn-RqUG_",
        "outputId": "a474cdfc-f2a0-42cd-cd89-df31c1a43371"
      },
      "execution_count": 6,
      "outputs": [
        {
          "output_type": "stream",
          "name": "stdout",
          "text": [
            "Total Columns: 110\n",
            "Total Numerical Columns: 60\n",
            "Total Non-Numerical Columns: 50\n"
          ]
        }
      ]
    },
    {
      "cell_type": "code",
      "source": [
        "print(numerical_columns)"
      ],
      "metadata": {
        "colab": {
          "base_uri": "https://localhost:8080/"
        },
        "id": "jn-UyFeSqjnJ",
        "outputId": "69aefc7a-8e7d-4e0b-f4b7-070f8df34eb7"
      },
      "execution_count": 7,
      "outputs": [
        {
          "output_type": "stream",
          "name": "stdout",
          "text": [
            "['sofifa_id', 'overall', 'potential', 'value_eur', 'wage_eur', 'age', 'height_cm', 'weight_kg', 'club_team_id', 'league_level', 'club_jersey_number', 'club_contract_valid_until', 'nationality_id', 'nation_team_id', 'nation_jersey_number', 'weak_foot', 'skill_moves', 'international_reputation', 'release_clause_eur', 'pace', 'shooting', 'passing', 'dribbling', 'defending', 'physic', 'attacking_crossing', 'attacking_finishing', 'attacking_heading_accuracy', 'attacking_short_passing', 'attacking_volleys', 'skill_dribbling', 'skill_curve', 'skill_fk_accuracy', 'skill_long_passing', 'skill_ball_control', 'movement_acceleration', 'movement_sprint_speed', 'movement_agility', 'movement_reactions', 'movement_balance', 'power_shot_power', 'power_jumping', 'power_stamina', 'power_strength', 'power_long_shots', 'mentality_aggression', 'mentality_interceptions', 'mentality_positioning', 'mentality_vision', 'mentality_penalties', 'mentality_composure', 'defending_marking_awareness', 'defending_standing_tackle', 'defending_sliding_tackle', 'goalkeeping_diving', 'goalkeeping_handling', 'goalkeeping_kicking', 'goalkeeping_positioning', 'goalkeeping_reflexes', 'goalkeeping_speed']\n"
          ]
        }
      ]
    },
    {
      "cell_type": "code",
      "source": [
        "print(nonnumerical_columns)"
      ],
      "metadata": {
        "colab": {
          "base_uri": "https://localhost:8080/"
        },
        "id": "R7VzpvV5qqxx",
        "outputId": "690fe442-e34a-493c-b175-d464ba4ff62e"
      },
      "execution_count": 8,
      "outputs": [
        {
          "output_type": "stream",
          "name": "stdout",
          "text": [
            "['player_url', 'short_name', 'long_name', 'player_positions', 'dob', 'club_name', 'league_name', 'club_position', 'club_loaned_from', 'club_joined', 'nationality_name', 'nation_position', 'preferred_foot', 'work_rate', 'body_type', 'real_face', 'player_tags', 'player_traits', 'ls', 'st', 'rs', 'lw', 'lf', 'cf', 'rf', 'rw', 'lam', 'cam', 'ram', 'lm', 'lcm', 'cm', 'rcm', 'rm', 'lwb', 'ldm', 'cdm', 'rdm', 'rwb', 'lb', 'lcb', 'cb', 'rcb', 'rb', 'gk', 'player_face_url', 'club_logo_url', 'club_flag_url', 'nation_logo_url', 'nation_flag_url']\n"
          ]
        }
      ]
    },
    {
      "cell_type": "code",
      "source": [
        "## Now lets look into empty values in each columns\n",
        "fifa_22_players[numerical_columns].isna().sum()"
      ],
      "metadata": {
        "colab": {
          "base_uri": "https://localhost:8080/"
        },
        "id": "_RmpYHefqsfL",
        "outputId": "58180d0a-b5a7-4b14-f209-c19e91040092"
      },
      "execution_count": 9,
      "outputs": [
        {
          "output_type": "execute_result",
          "data": {
            "text/plain": [
              "sofifa_id                          0\n",
              "overall                            0\n",
              "potential                          0\n",
              "value_eur                         74\n",
              "wage_eur                          61\n",
              "age                                0\n",
              "height_cm                          0\n",
              "weight_kg                          0\n",
              "club_team_id                      61\n",
              "league_level                      61\n",
              "club_jersey_number                61\n",
              "club_contract_valid_until         61\n",
              "nationality_id                     0\n",
              "nation_team_id                 18480\n",
              "nation_jersey_number           18480\n",
              "weak_foot                          0\n",
              "skill_moves                        0\n",
              "international_reputation           0\n",
              "release_clause_eur              1176\n",
              "pace                            2132\n",
              "shooting                        2132\n",
              "passing                         2132\n",
              "dribbling                       2132\n",
              "defending                       2132\n",
              "physic                          2132\n",
              "attacking_crossing                 0\n",
              "attacking_finishing                0\n",
              "attacking_heading_accuracy         0\n",
              "attacking_short_passing            0\n",
              "attacking_volleys                  0\n",
              "skill_dribbling                    0\n",
              "skill_curve                        0\n",
              "skill_fk_accuracy                  0\n",
              "skill_long_passing                 0\n",
              "skill_ball_control                 0\n",
              "movement_acceleration              0\n",
              "movement_sprint_speed              0\n",
              "movement_agility                   0\n",
              "movement_reactions                 0\n",
              "movement_balance                   0\n",
              "power_shot_power                   0\n",
              "power_jumping                      0\n",
              "power_stamina                      0\n",
              "power_strength                     0\n",
              "power_long_shots                   0\n",
              "mentality_aggression               0\n",
              "mentality_interceptions            0\n",
              "mentality_positioning              0\n",
              "mentality_vision                   0\n",
              "mentality_penalties                0\n",
              "mentality_composure                0\n",
              "defending_marking_awareness        0\n",
              "defending_standing_tackle          0\n",
              "defending_sliding_tackle           0\n",
              "goalkeeping_diving                 0\n",
              "goalkeeping_handling               0\n",
              "goalkeeping_kicking                0\n",
              "goalkeeping_positioning            0\n",
              "goalkeeping_reflexes               0\n",
              "goalkeeping_speed              17107\n",
              "dtype: int64"
            ]
          },
          "metadata": {},
          "execution_count": 9
        }
      ]
    },
    {
      "cell_type": "markdown",
      "source": [
        "Columns with highest number of empty values:\n",
        "\n",
        "- goalkeeping_speed\n",
        "- nation_team_id\n",
        "- nation_team_id\n",
        "- pace\n",
        "- shooting\n",
        "- passing\n",
        "- dribbling\n",
        "- defending\n",
        "- physic\n",
        "- release_clause_eur\n",
        "- value_eur\n",
        "- wage_eur\n",
        "- club_team_id\n",
        "- league_level\n",
        "- club_jersey_number\n",
        "- club_contract_valid_until\n",
        "\n",
        "***We can choose to delete the columns which will not be much helpful during our analysis. Apart from that, we only have option to drop certain players who do not have proper statistic values in FIFA.***"
      ],
      "metadata": {
        "id": "c3cra3D0rIBY"
      }
    },
    {
      "cell_type": "code",
      "source": [
        "## Now lets look into empty values in each columns\n",
        "fifa_22_players[nonnumerical_columns].isna().sum()"
      ],
      "metadata": {
        "colab": {
          "base_uri": "https://localhost:8080/"
        },
        "id": "gZovVU5srBDR",
        "outputId": "1ce00f75-dc47-417a-b355-2e71b05d087b"
      },
      "execution_count": 10,
      "outputs": [
        {
          "output_type": "execute_result",
          "data": {
            "text/plain": [
              "player_url              0\n",
              "short_name              0\n",
              "long_name               0\n",
              "player_positions        0\n",
              "dob                     0\n",
              "club_name              61\n",
              "league_name            61\n",
              "club_position          61\n",
              "club_loaned_from    18137\n",
              "club_joined          1163\n",
              "nationality_name        0\n",
              "nation_position     18480\n",
              "preferred_foot          0\n",
              "work_rate               0\n",
              "body_type               0\n",
              "real_face               0\n",
              "player_tags         17798\n",
              "player_traits        9841\n",
              "ls                      0\n",
              "st                      0\n",
              "rs                      0\n",
              "lw                      0\n",
              "lf                      0\n",
              "cf                      0\n",
              "rf                      0\n",
              "rw                      0\n",
              "lam                     0\n",
              "cam                     0\n",
              "ram                     0\n",
              "lm                      0\n",
              "lcm                     0\n",
              "cm                      0\n",
              "rcm                     0\n",
              "rm                      0\n",
              "lwb                     0\n",
              "ldm                     0\n",
              "cdm                     0\n",
              "rdm                     0\n",
              "rwb                     0\n",
              "lb                      0\n",
              "lcb                     0\n",
              "cb                      0\n",
              "rcb                     0\n",
              "rb                      0\n",
              "gk                      0\n",
              "player_face_url         0\n",
              "club_logo_url          61\n",
              "club_flag_url          61\n",
              "nation_logo_url     18480\n",
              "nation_flag_url         0\n",
              "dtype: int64"
            ]
          },
          "metadata": {},
          "execution_count": 10
        }
      ]
    },
    {
      "cell_type": "markdown",
      "source": [
        "Non-Numerical Columns with Highest number of Empty Values\n",
        "- nation_position\n",
        "- nation_logo_url\n",
        "- club_loaned_from\n",
        "- player_tags\n",
        "- player_traits\n",
        "- club_joined\n",
        "- club_name\n",
        "- league_name\n",
        "- club_position\n",
        "- club_logo_url\n",
        "- club_flag_url\n",
        "\n",
        "***We can choose to delete the columns which will not be much helpful during our analysis. Apart from that, we only have option to drop certain players who do not have proper statistic values in FIFA.***"
      ],
      "metadata": {
        "id": "xIN9Kxp0rZho"
      }
    },
    {
      "cell_type": "code",
      "source": [
        "fifa_22_players.drop(\n",
        "    [\"nation_position\",\"nation_logo_url\",\"club_loaned_from\",\"player_tags\",\"player_traits\",\"club_joined\",\"club_name\",\"league_name\",\"club_position\",\"club_logo_url\",\"club_flag_url\",\"goalkeeping_speed\",\"nation_team_id\",\"nation_team_id\",\"release_clause_eur\",\"club_team_id\",\"league_level\",\"club_jersey_number\",\"club_contract_valid_until\",\"nation_jersey_number\"],\n",
        "    axis=1,\n",
        "    inplace=True\n",
        ")"
      ],
      "metadata": {
        "id": "bBDBV38OrJYk"
      },
      "execution_count": 11,
      "outputs": []
    },
    {
      "cell_type": "code",
      "source": [
        "all_columns = list(fifa_22_players.columns)\n",
        "\n",
        "## Creating numerical columns\n",
        "numerical_columns = [each_column for each_column in all_columns if (fifa_22_players[each_column]).dtype != \"O\"]\n",
        "\n",
        "## Creating non-numerical columns\n",
        "nonnumerical_columns = [each_column for each_column in all_columns if (fifa_22_players[each_column]).dtype == \"O\"]\n",
        "\n",
        "print(f\"Total Columns: {len(all_columns)}\")\n",
        "print(f\"Total Numerical Columns: {len(numerical_columns)}\")\n",
        "print(f\"Total Non-Numerical Columns: {len(nonnumerical_columns)}\")"
      ],
      "metadata": {
        "colab": {
          "base_uri": "https://localhost:8080/"
        },
        "id": "nhc4-KGT0aRl",
        "outputId": "f2898cdc-a8c9-48e1-a226-c5099fcccd80"
      },
      "execution_count": 12,
      "outputs": [
        {
          "output_type": "stream",
          "name": "stdout",
          "text": [
            "Total Columns: 91\n",
            "Total Numerical Columns: 52\n",
            "Total Non-Numerical Columns: 39\n"
          ]
        }
      ]
    },
    {
      "cell_type": "markdown",
      "source": [
        "We have dropped 19 columns and now left with 91 columns"
      ],
      "metadata": {
        "id": "vuOMNqQ60s9b"
      }
    },
    {
      "cell_type": "code",
      "source": [
        "## Now lets look into empty values in each columns\n",
        "fifa_22_players[numerical_columns].isna().sum()"
      ],
      "metadata": {
        "colab": {
          "base_uri": "https://localhost:8080/"
        },
        "id": "UUNuWkHM0kfj",
        "outputId": "7d8f113b-33d0-43ca-993b-b7e8cb26a6e0"
      },
      "execution_count": 13,
      "outputs": [
        {
          "output_type": "execute_result",
          "data": {
            "text/plain": [
              "sofifa_id                         0\n",
              "overall                           0\n",
              "potential                         0\n",
              "value_eur                        74\n",
              "wage_eur                         61\n",
              "age                               0\n",
              "height_cm                         0\n",
              "weight_kg                         0\n",
              "nationality_id                    0\n",
              "weak_foot                         0\n",
              "skill_moves                       0\n",
              "international_reputation          0\n",
              "pace                           2132\n",
              "shooting                       2132\n",
              "passing                        2132\n",
              "dribbling                      2132\n",
              "defending                      2132\n",
              "physic                         2132\n",
              "attacking_crossing                0\n",
              "attacking_finishing               0\n",
              "attacking_heading_accuracy        0\n",
              "attacking_short_passing           0\n",
              "attacking_volleys                 0\n",
              "skill_dribbling                   0\n",
              "skill_curve                       0\n",
              "skill_fk_accuracy                 0\n",
              "skill_long_passing                0\n",
              "skill_ball_control                0\n",
              "movement_acceleration             0\n",
              "movement_sprint_speed             0\n",
              "movement_agility                  0\n",
              "movement_reactions                0\n",
              "movement_balance                  0\n",
              "power_shot_power                  0\n",
              "power_jumping                     0\n",
              "power_stamina                     0\n",
              "power_strength                    0\n",
              "power_long_shots                  0\n",
              "mentality_aggression              0\n",
              "mentality_interceptions           0\n",
              "mentality_positioning             0\n",
              "mentality_vision                  0\n",
              "mentality_penalties               0\n",
              "mentality_composure               0\n",
              "defending_marking_awareness       0\n",
              "defending_standing_tackle         0\n",
              "defending_sliding_tackle          0\n",
              "goalkeeping_diving                0\n",
              "goalkeeping_handling              0\n",
              "goalkeeping_kicking               0\n",
              "goalkeeping_positioning           0\n",
              "goalkeeping_reflexes              0\n",
              "dtype: int64"
            ]
          },
          "metadata": {},
          "execution_count": 13
        }
      ]
    },
    {
      "cell_type": "code",
      "source": [
        "## Now lets look into empty values in each columns\n",
        "fifa_22_players[nonnumerical_columns].isna().sum()"
      ],
      "metadata": {
        "colab": {
          "base_uri": "https://localhost:8080/"
        },
        "id": "Q3CuS1dI01Ej",
        "outputId": "16121350-26b8-440e-a7f3-3bf1917970a6"
      },
      "execution_count": 14,
      "outputs": [
        {
          "output_type": "execute_result",
          "data": {
            "text/plain": [
              "player_url          0\n",
              "short_name          0\n",
              "long_name           0\n",
              "player_positions    0\n",
              "dob                 0\n",
              "nationality_name    0\n",
              "preferred_foot      0\n",
              "work_rate           0\n",
              "body_type           0\n",
              "real_face           0\n",
              "ls                  0\n",
              "st                  0\n",
              "rs                  0\n",
              "lw                  0\n",
              "lf                  0\n",
              "cf                  0\n",
              "rf                  0\n",
              "rw                  0\n",
              "lam                 0\n",
              "cam                 0\n",
              "ram                 0\n",
              "lm                  0\n",
              "lcm                 0\n",
              "cm                  0\n",
              "rcm                 0\n",
              "rm                  0\n",
              "lwb                 0\n",
              "ldm                 0\n",
              "cdm                 0\n",
              "rdm                 0\n",
              "rwb                 0\n",
              "lb                  0\n",
              "lcb                 0\n",
              "cb                  0\n",
              "rcb                 0\n",
              "rb                  0\n",
              "gk                  0\n",
              "player_face_url     0\n",
              "nation_flag_url     0\n",
              "dtype: int64"
            ]
          },
          "metadata": {},
          "execution_count": 14
        }
      ]
    },
    {
      "cell_type": "markdown",
      "source": [
        "We can now remove these players which have empty values"
      ],
      "metadata": {
        "id": "rcEy1i7F1R5T"
      }
    },
    {
      "cell_type": "code",
      "source": [
        "print(f\"Shape before dropping NA: {fifa_22_players.shape}\")\n",
        "fifa_22_players.dropna(inplace=True)\n",
        "print(f\"Shape after dropping NA: {fifa_22_players.shape}\")"
      ],
      "metadata": {
        "colab": {
          "base_uri": "https://localhost:8080/"
        },
        "id": "7UGj-jdf01kb",
        "outputId": "b23e2973-15b3-4b6b-cb3b-0531998f0c5d"
      },
      "execution_count": 15,
      "outputs": [
        {
          "output_type": "stream",
          "name": "stdout",
          "text": [
            "Shape before dropping NA: (19239, 91)\n",
            "Shape after dropping NA: (17041, 91)\n"
          ]
        }
      ]
    },
    {
      "cell_type": "markdown",
      "source": [
        "---\n",
        "\n",
        "We now have final data which can be used for further analysis. \n",
        "\n",
        "Let's find some useful Insights.\n",
        "\n",
        "---"
      ],
      "metadata": {
        "id": "I4OOSAab2Nhj"
      }
    },
    {
      "cell_type": "markdown",
      "source": [
        "#### 1. Top 5 Players Per Position"
      ],
      "metadata": {
        "id": "pTjAnihV5WrD"
      }
    },
    {
      "cell_type": "code",
      "source": [
        "top_5_players_per_position = fifa_22_players[[\"short_name\",\"overall\",\"player_positions\"]].groupby(\n",
        "    ['player_positions']\n",
        ").apply(\n",
        "    lambda x: (x.groupby('short_name').sum().sort_values('overall', ascending=False)).head(5)\n",
        ")"
      ],
      "metadata": {
        "id": "fke2MckS6Pen"
      },
      "execution_count": 16,
      "outputs": []
    },
    {
      "cell_type": "code",
      "source": [
        "top_5_players_per_position.head(20)"
      ],
      "metadata": {
        "colab": {
          "base_uri": "https://localhost:8080/",
          "height": 708
        },
        "id": "eW-DdoQZ9HV3",
        "outputId": "754eb2f9-ea5f-4c55-e635-c79b9c5828bf"
      },
      "execution_count": 17,
      "outputs": [
        {
          "output_type": "execute_result",
          "data": {
            "text/plain": [
              "                                  overall\n",
              "player_positions short_name              \n",
              "CAM              Bruno Fernandes       88\n",
              "                 Jonathan Viera        81\n",
              "                 N. Vlašić             80\n",
              "                 N. Lodeiro            80\n",
              "                 J. Lingard            79\n",
              "CAM, CDM         P. Kasami             74\n",
              "                 D. Johnson            72\n",
              "                 V. Gvilia             67\n",
              "                 M. Chrapek            66\n",
              "                 M. Czyżycki           63\n",
              "CAM, CDM, CM     A. Ricaurte           73\n",
              "                 D. Genreau            65\n",
              "                 G. Barreto            65\n",
              "                 L. Rajot              64\n",
              "CAM, CDM, LM     Álex Fernández        75\n",
              "CAM, CDM, RM     M. Miranda            67\n",
              "CAM, CDM, ST     V. Lobry              68\n",
              "CAM, CF          M. Reus               85\n",
              "                 Dani Olmo             82\n",
              "                 E. Forsberg           81"
            ],
            "text/html": [
              "\n",
              "  <div id=\"df-6ee0ec79-b955-4f4b-b90d-2e282a353ab3\">\n",
              "    <div class=\"colab-df-container\">\n",
              "      <div>\n",
              "<style scoped>\n",
              "    .dataframe tbody tr th:only-of-type {\n",
              "        vertical-align: middle;\n",
              "    }\n",
              "\n",
              "    .dataframe tbody tr th {\n",
              "        vertical-align: top;\n",
              "    }\n",
              "\n",
              "    .dataframe thead th {\n",
              "        text-align: right;\n",
              "    }\n",
              "</style>\n",
              "<table border=\"1\" class=\"dataframe\">\n",
              "  <thead>\n",
              "    <tr style=\"text-align: right;\">\n",
              "      <th></th>\n",
              "      <th></th>\n",
              "      <th>overall</th>\n",
              "    </tr>\n",
              "    <tr>\n",
              "      <th>player_positions</th>\n",
              "      <th>short_name</th>\n",
              "      <th></th>\n",
              "    </tr>\n",
              "  </thead>\n",
              "  <tbody>\n",
              "    <tr>\n",
              "      <th rowspan=\"5\" valign=\"top\">CAM</th>\n",
              "      <th>Bruno Fernandes</th>\n",
              "      <td>88</td>\n",
              "    </tr>\n",
              "    <tr>\n",
              "      <th>Jonathan Viera</th>\n",
              "      <td>81</td>\n",
              "    </tr>\n",
              "    <tr>\n",
              "      <th>N. Vlašić</th>\n",
              "      <td>80</td>\n",
              "    </tr>\n",
              "    <tr>\n",
              "      <th>N. Lodeiro</th>\n",
              "      <td>80</td>\n",
              "    </tr>\n",
              "    <tr>\n",
              "      <th>J. Lingard</th>\n",
              "      <td>79</td>\n",
              "    </tr>\n",
              "    <tr>\n",
              "      <th rowspan=\"5\" valign=\"top\">CAM, CDM</th>\n",
              "      <th>P. Kasami</th>\n",
              "      <td>74</td>\n",
              "    </tr>\n",
              "    <tr>\n",
              "      <th>D. Johnson</th>\n",
              "      <td>72</td>\n",
              "    </tr>\n",
              "    <tr>\n",
              "      <th>V. Gvilia</th>\n",
              "      <td>67</td>\n",
              "    </tr>\n",
              "    <tr>\n",
              "      <th>M. Chrapek</th>\n",
              "      <td>66</td>\n",
              "    </tr>\n",
              "    <tr>\n",
              "      <th>M. Czyżycki</th>\n",
              "      <td>63</td>\n",
              "    </tr>\n",
              "    <tr>\n",
              "      <th rowspan=\"4\" valign=\"top\">CAM, CDM, CM</th>\n",
              "      <th>A. Ricaurte</th>\n",
              "      <td>73</td>\n",
              "    </tr>\n",
              "    <tr>\n",
              "      <th>D. Genreau</th>\n",
              "      <td>65</td>\n",
              "    </tr>\n",
              "    <tr>\n",
              "      <th>G. Barreto</th>\n",
              "      <td>65</td>\n",
              "    </tr>\n",
              "    <tr>\n",
              "      <th>L. Rajot</th>\n",
              "      <td>64</td>\n",
              "    </tr>\n",
              "    <tr>\n",
              "      <th>CAM, CDM, LM</th>\n",
              "      <th>Álex Fernández</th>\n",
              "      <td>75</td>\n",
              "    </tr>\n",
              "    <tr>\n",
              "      <th>CAM, CDM, RM</th>\n",
              "      <th>M. Miranda</th>\n",
              "      <td>67</td>\n",
              "    </tr>\n",
              "    <tr>\n",
              "      <th>CAM, CDM, ST</th>\n",
              "      <th>V. Lobry</th>\n",
              "      <td>68</td>\n",
              "    </tr>\n",
              "    <tr>\n",
              "      <th rowspan=\"3\" valign=\"top\">CAM, CF</th>\n",
              "      <th>M. Reus</th>\n",
              "      <td>85</td>\n",
              "    </tr>\n",
              "    <tr>\n",
              "      <th>Dani Olmo</th>\n",
              "      <td>82</td>\n",
              "    </tr>\n",
              "    <tr>\n",
              "      <th>E. Forsberg</th>\n",
              "      <td>81</td>\n",
              "    </tr>\n",
              "  </tbody>\n",
              "</table>\n",
              "</div>\n",
              "      <button class=\"colab-df-convert\" onclick=\"convertToInteractive('df-6ee0ec79-b955-4f4b-b90d-2e282a353ab3')\"\n",
              "              title=\"Convert this dataframe to an interactive table.\"\n",
              "              style=\"display:none;\">\n",
              "        \n",
              "  <svg xmlns=\"http://www.w3.org/2000/svg\" height=\"24px\"viewBox=\"0 0 24 24\"\n",
              "       width=\"24px\">\n",
              "    <path d=\"M0 0h24v24H0V0z\" fill=\"none\"/>\n",
              "    <path d=\"M18.56 5.44l.94 2.06.94-2.06 2.06-.94-2.06-.94-.94-2.06-.94 2.06-2.06.94zm-11 1L8.5 8.5l.94-2.06 2.06-.94-2.06-.94L8.5 2.5l-.94 2.06-2.06.94zm10 10l.94 2.06.94-2.06 2.06-.94-2.06-.94-.94-2.06-.94 2.06-2.06.94z\"/><path d=\"M17.41 7.96l-1.37-1.37c-.4-.4-.92-.59-1.43-.59-.52 0-1.04.2-1.43.59L10.3 9.45l-7.72 7.72c-.78.78-.78 2.05 0 2.83L4 21.41c.39.39.9.59 1.41.59.51 0 1.02-.2 1.41-.59l7.78-7.78 2.81-2.81c.8-.78.8-2.07 0-2.86zM5.41 20L4 18.59l7.72-7.72 1.47 1.35L5.41 20z\"/>\n",
              "  </svg>\n",
              "      </button>\n",
              "      \n",
              "  <style>\n",
              "    .colab-df-container {\n",
              "      display:flex;\n",
              "      flex-wrap:wrap;\n",
              "      gap: 12px;\n",
              "    }\n",
              "\n",
              "    .colab-df-convert {\n",
              "      background-color: #E8F0FE;\n",
              "      border: none;\n",
              "      border-radius: 50%;\n",
              "      cursor: pointer;\n",
              "      display: none;\n",
              "      fill: #1967D2;\n",
              "      height: 32px;\n",
              "      padding: 0 0 0 0;\n",
              "      width: 32px;\n",
              "    }\n",
              "\n",
              "    .colab-df-convert:hover {\n",
              "      background-color: #E2EBFA;\n",
              "      box-shadow: 0px 1px 2px rgba(60, 64, 67, 0.3), 0px 1px 3px 1px rgba(60, 64, 67, 0.15);\n",
              "      fill: #174EA6;\n",
              "    }\n",
              "\n",
              "    [theme=dark] .colab-df-convert {\n",
              "      background-color: #3B4455;\n",
              "      fill: #D2E3FC;\n",
              "    }\n",
              "\n",
              "    [theme=dark] .colab-df-convert:hover {\n",
              "      background-color: #434B5C;\n",
              "      box-shadow: 0px 1px 3px 1px rgba(0, 0, 0, 0.15);\n",
              "      filter: drop-shadow(0px 1px 2px rgba(0, 0, 0, 0.3));\n",
              "      fill: #FFFFFF;\n",
              "    }\n",
              "  </style>\n",
              "\n",
              "      <script>\n",
              "        const buttonEl =\n",
              "          document.querySelector('#df-6ee0ec79-b955-4f4b-b90d-2e282a353ab3 button.colab-df-convert');\n",
              "        buttonEl.style.display =\n",
              "          google.colab.kernel.accessAllowed ? 'block' : 'none';\n",
              "\n",
              "        async function convertToInteractive(key) {\n",
              "          const element = document.querySelector('#df-6ee0ec79-b955-4f4b-b90d-2e282a353ab3');\n",
              "          const dataTable =\n",
              "            await google.colab.kernel.invokeFunction('convertToInteractive',\n",
              "                                                     [key], {});\n",
              "          if (!dataTable) return;\n",
              "\n",
              "          const docLinkHtml = 'Like what you see? Visit the ' +\n",
              "            '<a target=\"_blank\" href=https://colab.research.google.com/notebooks/data_table.ipynb>data table notebook</a>'\n",
              "            + ' to learn more about interactive tables.';\n",
              "          element.innerHTML = '';\n",
              "          dataTable['output_type'] = 'display_data';\n",
              "          await google.colab.output.renderOutput(dataTable, element);\n",
              "          const docLink = document.createElement('div');\n",
              "          docLink.innerHTML = docLinkHtml;\n",
              "          element.appendChild(docLink);\n",
              "        }\n",
              "      </script>\n",
              "    </div>\n",
              "  </div>\n",
              "  "
            ]
          },
          "metadata": {},
          "execution_count": 17
        }
      ]
    },
    {
      "cell_type": "markdown",
      "source": [
        "Some player positions only have very limited number of players. Thus, we may need a approach which generalizes he number of unique player positions for a player.\n",
        "\n",
        "This generalization could be the preferred position - which can be obtained from the position in which the player has been rated the highest."
      ],
      "metadata": {
        "id": "SK9XpBcZ_a5E"
      }
    },
    {
      "cell_type": "code",
      "source": [],
      "metadata": {
        "id": "KvH2qsjn_VWv"
      },
      "execution_count": null,
      "outputs": []
    }
  ]
}
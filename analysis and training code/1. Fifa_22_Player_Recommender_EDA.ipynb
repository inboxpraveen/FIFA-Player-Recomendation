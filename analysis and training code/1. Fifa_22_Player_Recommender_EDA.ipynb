{
  "nbformat": 4,
  "nbformat_minor": 0,
  "metadata": {
    "colab": {
      "provenance": []
    },
    "kernelspec": {
      "name": "python3",
      "display_name": "Python 3"
    },
    "language_info": {
      "name": "python"
    }
  },
  "cells": [
    {
      "cell_type": "markdown",
      "source": [
        "# FIFA PLAYER ANALYSIS & RECOMMENDATION\n",
        "\n",
        "- Part 1: FIFA Player Analysis (You are here)\n",
        "- Part 2: FIFA Player Recommendation (Go to this notebook)"
      ],
      "metadata": {
        "id": "wiLMbhUTsvKk"
      }
    },
    {
      "cell_type": "markdown",
      "source": [
        "**Table of Content**\n",
        "\n",
        "| Sr. No | Section Title | Description |\n",
        "| ------ | ------------- | ----------- |\n",
        "| 00 | Drive & Files | Linking your google drive and uploading your Kaggle API token |\n",
        "| 01 | Kaggle Setup | Information & details on downloading dataset via Kaggle API |\n",
        "| 02 | Modules & Library | Information on setting up requirements for training and inference |\n",
        "| 03 | Data Cleaning & Engineering | Information on preparing data for trainable features |"
      ],
      "metadata": {
        "id": "CWA3FQ-usvCm"
      }
    },
    {
      "cell_type": "markdown",
      "source": [
        "## Section 0: Drive & Files\n",
        "\n",
        ">     Linking your google drive and uploading your Kaggle API token"
      ],
      "metadata": {
        "id": "6kJIG9zGtmQM"
      }
    },
    {
      "cell_type": "markdown",
      "source": [
        "#### 1: Mounting your Google Drive"
      ],
      "metadata": {
        "id": "pUOM3ShVtoxS"
      }
    },
    {
      "cell_type": "code",
      "source": [
        "from google.colab import drive, files\n",
        "drive.mount('/content/drive')"
      ],
      "metadata": {
        "id": "UgAL9PMKtq5c"
      },
      "execution_count": null,
      "outputs": []
    },
    {
      "cell_type": "markdown",
      "source": [
        "#### 2: Uploading your Kaggle API Token File"
      ],
      "metadata": {
        "id": "aJdzGqrJttKT"
      }
    },
    {
      "cell_type": "code",
      "source": [
        "files.upload()"
      ],
      "metadata": {
        "id": "pZ0PuXE4tuuR"
      },
      "execution_count": null,
      "outputs": []
    },
    {
      "cell_type": "markdown",
      "source": [
        "## Section 1: Kaggle Setup\n",
        "\n",
        "> \tInformation & details on downloading dataset via Kaggle API"
      ],
      "metadata": {
        "id": "btkE0sAftwxC"
      }
    },
    {
      "cell_type": "markdown",
      "source": [
        "#### 1: Enable Kaggle API for User Mode Aceess"
      ],
      "metadata": {
        "id": "B8K8nLZSt5VP"
      }
    },
    {
      "cell_type": "code",
      "execution_count": null,
      "metadata": {
        "id": "4N1Kd86g3LOk"
      },
      "outputs": [],
      "source": [
        "!pip install -q kaggle\n",
        "!mkdir ~/.kaggle\n",
        "!cp kaggle.json ~/.kaggle/\n",
        "!chmod 600 ~/.kaggle/kaggle.json"
      ]
    },
    {
      "cell_type": "markdown",
      "source": [
        "#### 2: Downloading the Dataset from Kaggle to Google Colab"
      ],
      "metadata": {
        "id": "FoAKMmQ9t72l"
      }
    },
    {
      "cell_type": "code",
      "source": [
        "!kaggle datasets download -d stefanoleone992/fifa-22-complete-player-dataset"
      ],
      "metadata": {
        "colab": {
          "base_uri": "https://localhost:8080/"
        },
        "id": "S-GLlgyb3XHa",
        "outputId": "8360a68a-4bf9-4f03-b29f-4b37f97fabe0"
      },
      "execution_count": null,
      "outputs": [
        {
          "output_type": "stream",
          "name": "stdout",
          "text": [
            "Downloading fifa-22-complete-player-dataset.zip to /content\n",
            " 89% 97.0M/109M [00:00<00:00, 137MB/s]\n",
            "100% 109M/109M [00:00<00:00, 132MB/s] \n"
          ]
        }
      ]
    },
    {
      "cell_type": "markdown",
      "source": [
        "#### 3: Extracting Dataset\n",
        "\n",
        "Whenever we download dataset from Kaggle, it is usually in zip or tar compression technique. To be able to access dataset, we need to extract it using suitable decompression technique."
      ],
      "metadata": {
        "id": "hRoxyGy1t91d"
      }
    },
    {
      "cell_type": "code",
      "source": [
        "## Unzip the dataset into /content/data directory \n",
        "!unzip /content/fifa-22-complete-player-dataset.zip -d /content/data\n",
        "\n",
        "## Once extracted, we then remove it to save disk space.\n",
        "!rm /content/fifa-22-complete-player-dataset.zip"
      ],
      "metadata": {
        "colab": {
          "base_uri": "https://localhost:8080/"
        },
        "id": "-ZSdWNkR3_SW",
        "outputId": "9a44027c-ec6f-4b9a-bfa4-f05f1971f1e7"
      },
      "execution_count": null,
      "outputs": [
        {
          "output_type": "stream",
          "name": "stdout",
          "text": [
            "Archive:  ./fifa-22-complete-player-dataset.zip\n",
            "  inflating: data/Career Mode female player datasets - FIFA 16-22.xlsx  \n",
            "  inflating: data/Career Mode player datasets - FIFA 15-22.xlsx  \n",
            "  inflating: data/female_players_16.csv  \n",
            "  inflating: data/female_players_17.csv  \n",
            "  inflating: data/female_players_18.csv  \n",
            "  inflating: data/female_players_19.csv  \n",
            "  inflating: data/female_players_20.csv  \n",
            "  inflating: data/female_players_21.csv  \n",
            "  inflating: data/female_players_22.csv  \n",
            "  inflating: data/players_15.csv     \n",
            "  inflating: data/players_16.csv     \n",
            "  inflating: data/players_17.csv     \n",
            "  inflating: data/players_18.csv     \n",
            "  inflating: data/players_19.csv     \n",
            "  inflating: data/players_20.csv     \n",
            "  inflating: data/players_21.csv     \n",
            "  inflating: data/players_22.csv     \n"
          ]
        }
      ]
    },
    {
      "cell_type": "markdown",
      "source": [
        "## Section 2: Modules & Library\n",
        "\n",
        ">     Information on setting up requirements for training and inference"
      ],
      "metadata": {
        "id": "Hea8rK-suMCg"
      }
    },
    {
      "cell_type": "markdown",
      "source": [
        "#### 1: Installing required packages"
      ],
      "metadata": {
        "id": "MrOX3lK-uOmB"
      }
    },
    {
      "cell_type": "code",
      "source": [
        "## Installing library goes here."
      ],
      "metadata": {
        "id": "0T_ssYcouQcH"
      },
      "execution_count": null,
      "outputs": []
    },
    {
      "cell_type": "markdown",
      "source": [
        "---\n",
        "\n",
        "For your Information: This notebook is complied on Google Colab that provides most of the modules pre-installed in working environment. If you happen to run it locally on your system, you may need to install additional dependencies. \n",
        "\n",
        "---"
      ],
      "metadata": {
        "id": "PG1S6nhxuQvD"
      }
    },
    {
      "cell_type": "code",
      "source": [
        "## updating more soon...."
      ],
      "metadata": {
        "id": "9Z3W31kCMnkP"
      },
      "execution_count": null,
      "outputs": []
    }
  ]
}